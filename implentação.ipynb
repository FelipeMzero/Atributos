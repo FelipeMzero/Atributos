{
 "cells": [
  {
   "cell_type": "code",
   "execution_count": null,
   "metadata": {},
   "outputs": [],
   "source": [
    "import pandas as pd\n",
    "import dash\n",
    "from dash import dcc, html\n",
    "import plotly.express as px\n",
    "from sklearn.ensemble import RandomForestRegressor\n",
    "from scipy.stats import pearsonr\n",
    "import numpy as np\n",
    "import random\n",
    "from deap import base, creator, tools, algorithms\n",
    "import matplotlib.pyplot as plt\n",
    "import seaborn as sns"
   ]
  },
  {
   "cell_type": "code",
   "execution_count": null,
   "metadata": {},
   "outputs": [],
   "source": [
    "# Carrega os dados\n",
    "dados = pd.read_csv('Dados Brutos-PA-CFCT-comCNR.csv', parse_dates=[0])\n",
    "dados = dados.drop(columns=['DATA'])\n",
    "X = dados.drop(columns=['CFCT'])\n",
    "y = dados['CFCT']"
   ]
  },
  {
   "cell_type": "code",
   "execution_count": null,
   "metadata": {},
   "outputs": [],
   "source": [
    "# Treina um modelo de Regressão de Floresta Aleatória\n",
    "rf = RandomForestRegressor(n_estimators=100, random_state=42)\n",
    "rf.fit(X, y)"
   ]
  },
  {
   "cell_type": "code",
   "execution_count": null,
   "metadata": {},
   "outputs": [],
   "source": [
    "# Calcula a importância das características\n",
    "importancias = rf.feature_importances_\n",
    "importancias_caracteristicas = pd.DataFrame({'Atributo': X.columns, 'Importância': importancias})\n",
    "importancias_caracteristicas = importancias_caracteristicas.sort_values(by='Importância', ascending=False)\n",
    "atributos_mais_importantes_rf = importancias_caracteristicas['Atributo'].to_list()\n"
   ]
  },
  {
   "cell_type": "code",
   "execution_count": null,
   "metadata": {},
   "outputs": [],
   "source": [
    "# Gera o gráfico da importância das características\n",
    "plt.figure(figsize=(10, 6))\n",
    "plt.bar(range(len(atributos_mais_importantes_rf)), importancias_caracteristicas['Importância'], tick_label=atributos_mais_importantes_rf)\n",
    "plt.xlabel('Atributos')\n",
    "plt.ylabel('Importância')\n",
    "plt.title('Importância dos Atributos (Random Forest)')\n",
    "plt.xticks(rotation=90)\n",
    "plt.tight_layout()\n",
    "plt.show()"
   ]
  },
  {
   "cell_type": "code",
   "execution_count": null,
   "metadata": {},
   "outputs": [],
   "source": [
    "# Calcula as correlações de Pearson\n",
    "correlacoes = [pearsonr(dados[attr], dados['CFCT'])[0] for attr in X.columns]\n",
    "correlacoes_df = pd.DataFrame({'Atributo': X.columns, 'Correlação de Pearson': correlacoes})\n",
    "correlacoes_df = correlacoes_df.sort_values(by='Correlação de Pearson', ascending=False)\n",
    "atributos_mais_importantes_correlacao = correlacoes_df['Atributo'].to_list()"
   ]
  },
  {
   "cell_type": "code",
   "execution_count": null,
   "metadata": {},
   "outputs": [],
   "source": [
    "# Gera o gráfico da correlação de Pearson\n",
    "plt.figure(figsize=(10, 6))\n",
    "plt.bar(range(len(atributos_mais_importantes_correlacao)), correlacoes_df['Correlação de Pearson'], tick_label=atributos_mais_importantes_correlacao)\n",
    "plt.xlabel('Atributos')\n",
    "plt.ylabel('Correlação de Pearson')\n",
    "plt.title('Correlação de Pearson entre Atributos e CFCT')\n",
    "plt.xticks(rotation=90)\n",
    "plt.tight_layout()\n",
    "plt.show()"
   ]
  },
  {
   "cell_type": "code",
   "execution_count": null,
   "metadata": {},
   "outputs": [],
   "source": [
    "# Configuração do Algoritmo Genético\n",
    "todos_atributos = X.columns.tolist()"
   ]
  },
  {
   "cell_type": "code",
   "execution_count": null,
   "metadata": {},
   "outputs": [],
   "source": [
    "def avaliacao(individual):\n",
    "    atributos_selecionados = [attr for attr, selecionado in zip(todos_atributos, individual) if selecionado]\n",
    "    valor_avaliacao = np.sum(np.random.rand(len(atributos_selecionados)))  # Exemplo simples de função de avaliação\n",
    "    return (valor_avaliacao,)"
   ]
  },
  {
   "cell_type": "code",
   "execution_count": null,
   "metadata": {},
   "outputs": [],
   "source": [
    "creator.create(\"FitnessMax\", base.Fitness, weights=(1.0,))\n",
    "creator.create(\"Individual\", list, fitness=creator.FitnessMax)\n",
    "toolbox = base.Toolbox()\n",
    "toolbox.register(\"attr_bool\", random.randint, 0, 1)\n",
    "toolbox.register(\"individual\", tools.initRepeat, creator.Individual, toolbox.attr_bool, n=len(todos_atributos))\n",
    "toolbox.register(\"population\", tools.initRepeat, list, toolbox.individual)\n",
    "toolbox.register(\"evaluate\", avaliacao)\n",
    "toolbox.register(\"mate\", tools.cxTwoPoint)\n",
    "toolbox.register(\"mutate\", tools.mutFlipBit, indpb=0.1)\n",
    "toolbox.register(\"select\", tools.selTournament, tournsize=3)"
   ]
  },
  {
   "cell_type": "code",
   "execution_count": null,
   "metadata": {},
   "outputs": [],
   "source": [
    "NGEN = 100  # Número máximo de gerações\n",
    "CXPB = 0.9   # Probabilidade de crossover\n",
    "MUTPB = 0.2  # Probabilidade de mutação\n",
    "populacao = toolbox.population(n=100)  # Tamanho da população\n"
   ]
  },
  {
   "cell_type": "code",
   "execution_count": null,
   "metadata": {},
   "outputs": [],
   "source": [
    "melhores_valores_fitness = []\n",
    "melhores_individuos = []\n",
    "for geracao in range(NGEN):\n",
    "    fitnesses = list(map(toolbox.evaluate, populacao))\n",
    "    for ind, fit in zip(populacao, fitnesses):\n",
    "        ind.fitness.values = fit\n",
    "\n",
    "    melhor_individuo = tools.selBest(populacao, k=1)[0]\n",
    "    melhores_valores_fitness.append(melhor_individuo.fitness.values)\n",
    "    melhores_individuos.append(melhor_individuo)\n",
    "\n",
    "    descendentes = algorithms.varAnd(populacao, toolbox, cxpb=CXPB, mutpb=MUTPB)\n",
    "    fitnesses = list(map(toolbox.evaluate, descendentes))\n",
    "    for ind, fit in zip(descendentes, fitnesses):\n",
    "        ind.fitness.values = fit\n",
    "    populacao = toolbox.select(descendentes, k=len(populacao))"
   ]
  },
  {
   "cell_type": "code",
   "execution_count": null,
   "metadata": {},
   "outputs": [],
   "source": [
    "melhores_valores_fitness = np.array(melhores_valores_fitness)\n",
    "geracoes = np.arange(1, NGEN + 1)"
   ]
  },
  {
   "cell_type": "code",
   "execution_count": null,
   "metadata": {},
   "outputs": [],
   "source": [
    "# Gera o gráfico da convergência do Algoritmo Genético\n",
    "plt.figure(figsize=(10, 6))\n",
    "plt.plot(geracoes, melhores_valores_fitness, marker='o')\n",
    "plt.xlabel('Geração')\n",
    "plt.ylabel('Melhor Valor de Fitness')\n",
    "plt.title('Convergência do Algoritmo Genético')\n",
    "plt.grid(True)\n",
    "plt.show()"
   ]
  },
  {
   "cell_type": "code",
   "execution_count": null,
   "metadata": {},
   "outputs": [],
   "source": [
    "melhor_individuo = tools.selBest(populacao, k=1)[0]\n",
    "atributos_selecionados = [attr for attr, selecionado in zip(todos_atributos, melhor_individuo) if selecionado]\n",
    "print(\"Melhor conjunto de atributos:\", atributos_selecionados)"
   ]
  },
  {
   "cell_type": "code",
   "execution_count": null,
   "metadata": {},
   "outputs": [],
   "source": [
    "# Gera o heatmap da matriz de correlação\n",
    "matriz_correlacao = dados.corr()\n",
    "plt.figure(figsize=(15, 9))\n",
    "sns.heatmap(matriz_correlacao, annot=True, cmap=\"coolwarm\", fmt=\".2f\", linewidths=.5)\n",
    "plt.title('Matriz de Correlação com Heatmap')\n",
    "plt.show()"
   ]
  },
  {
   "cell_type": "code",
   "execution_count": null,
   "metadata": {},
   "outputs": [],
   "source": [
    "# Criar um aplicativo Dash\n",
    "# app = dash.Dash(__name__)\n",
    "\n",
    "# # Layout do aplicativo\n",
    "# app.layout = html.Div([\n",
    "#     # Gráfico de barras para a importância das características no RandomForest\n",
    "#     dcc.Graph(\n",
    "#         id='importancia-atributos-rf',\n",
    "#         figure=px.bar(\n",
    "#             # feature_importances,\n",
    "#             x='Atributo',\n",
    "#             y='Importância',\n",
    "#             title='Importância dos Atributos (Random Forest)',\n",
    "#             labels={'Importância': 'Importância', 'Atributo': 'Atributos'},\n",
    "#             height=600\n",
    "#         )\n",
    "#     ),\n",
    "\n",
    "#     # Gráfico de barras para a correlação de Pearson entre atributos e CFCT\n",
    "#     dcc.Graph(\n",
    "#         id='correlacao-pearson',\n",
    "#         figure=px.bar(\n",
    "#             correlacoes_df,\n",
    "#             x='Atributo',\n",
    "#             y='Correlação de Pearson',\n",
    "#             title='Correlação de Pearson entre Atributos e CFCT',\n",
    "#             labels={'Correlação de Pearson': 'Correlação de Pearson', 'Atributo': 'Atributos'},\n",
    "#             height=600\n",
    "#         )\n",
    "#     ),\n",
    "\n",
    "#     # Gráfico de heatmap para a matriz de correlação\n",
    "#     dcc.Graph(\n",
    "#         id='heatmap-correlacao',\n",
    "#         figure=px.imshow(\n",
    "#             data.corr(),\n",
    "#             color_continuous_scale='coolwarm',\n",
    "#             labels={'index': 'Atributos', 'columns': 'Atributos'},\n",
    "#             title='Matriz de Correlação com Heatmap'\n",
    "#         )\n",
    "#     )\n",
    "# ])\n",
    "\n",
    "# # Executar o aplicativo Dash\n",
    "# if __name__ == '__main__':\n",
    "#     app.run_server(debug=True)"
   ]
  }
 ],
 "metadata": {
  "kernelspec": {
   "display_name": "venv",
   "language": "python",
   "name": "python3"
  },
  "language_info": {
   "codemirror_mode": {
    "name": "ipython",
    "version": 3
   },
   "file_extension": ".py",
   "mimetype": "text/x-python",
   "name": "python",
   "nbconvert_exporter": "python",
   "pygments_lexer": "ipython3",
   "version": "3.8.10"
  }
 },
 "nbformat": 4,
 "nbformat_minor": 2
}
